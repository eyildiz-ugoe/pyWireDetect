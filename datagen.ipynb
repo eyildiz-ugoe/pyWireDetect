{
 "cells": [
  {
   "cell_type": "markdown",
   "metadata": {
    "colab_type": "text",
    "id": "cW-461VqAUQG"
   },
   "source": [
    "# Instructions\n",
    "\n",
    "* Copy the provided **wire_set** folder into current directory\n",
    "* Make sure The **wire_set** folder has the following tree:\n",
    "\n",
    "        ├── val\n",
    "        │   ├── images\n",
    "        │   │   ├── xx.jpg\n",
    "        ..................\n",
    "        │   │   ├── xx.jpg\n",
    "        │   │   └── xx.jpg\n",
    "        │   └── masks\n",
    "        │       ├── xx.jpg\n",
    "        ..................\n",
    "        │       ├── xx.jpg\n",
    "        │       └── xx.jpg\n",
    "        └── train\n",
    "            ├── images\n",
    "            │   ├── xx.jpg\n",
    "            ...............\n",
    "            │   └── xx.jpg\n",
    "            └── masks\n",
    "                ├── xx.jpg\n",
    "                ...........\n",
    "                └── xx.jpg\n"
   ]
  },
  {
   "cell_type": "code",
   "execution_count": 1,
   "metadata": {
    "colab": {},
    "colab_type": "code",
    "id": "RuXU7l2sATu2"
   },
   "outputs": [],
   "source": [
    "import os\n",
    "batch_size  = 100   \n",
    "image_size  = 256 \n",
    "train_src   = os.path.join(os.getcwd(),'wire_set','train') \n",
    "eval_src    = os.path.join(os.getcwd(),'wire_set','val')\n",
    "data_num    = 1024\n",
    "DATA_IDEN   = 0"
   ]
  },
  {
   "cell_type": "markdown",
   "metadata": {
    "colab_type": "text",
    "id": "_tiLUxhdGz2p"
   },
   "source": [
    "# Data Directory Creation"
   ]
  },
  {
   "cell_type": "code",
   "execution_count": 2,
   "metadata": {},
   "outputs": [],
   "source": [
    "def create_dir(base_dir,ext_name):\n",
    "    '''\n",
    "        creates a new dir with ext_name in base_dir and returns the path\n",
    "    '''\n",
    "    new_dir=os.path.join(base_dir,ext_name)\n",
    "    if not os.path.exists(new_dir):\n",
    "        os.mkdir(new_dir)\n",
    "    return new_dir\n",
    "\n",
    "# dataset Dir\n",
    "ds_dir=create_dir(os.getcwd(),'DataSet')\n",
    "# train\n",
    "train_dir  =   create_dir(ds_dir,'Train')\n",
    "train_img  =   create_dir(train_dir,'images')\n",
    "train_mask =   create_dir(train_dir,'masks')\n",
    "# eval\n",
    "eval_dir   =   create_dir(ds_dir,'Eval')\n",
    "eval_img   =   create_dir(eval_dir,'images')\n",
    "eval_mask  =   create_dir(eval_dir,'masks')\n",
    "# record dir\n",
    "tf_dir=create_dir(ds_dir,'WireDTF')\n",
    "tf_train=create_dir(tf_dir,'Train')\n",
    "tf_eval=create_dir(tf_dir,'Eval')"
   ]
  },
  {
   "cell_type": "markdown",
   "metadata": {},
   "source": [
    "# Augmentation Definition"
   ]
  },
  {
   "cell_type": "code",
   "execution_count": 3,
   "metadata": {},
   "outputs": [],
   "source": [
    "import numpy as np\n",
    "import matplotlib.pyplot as plt\n",
    "%matplotlib inline\n",
    "import cv2\n",
    "from PIL import Image as imgop\n",
    "import random\n",
    "from sklearn.utils import shuffle\n",
    "import progressbar\n",
    "from glob import glob\n",
    "import imageio\n",
    "\n",
    "from albumentations import (Blur, Compose, HorizontalFlip, HueSaturationValue,\n",
    "                            IAAEmboss, IAASharpen, JpegCompression, OneOf,\n",
    "                            RandomBrightness, RandomBrightnessContrast,\n",
    "                            RandomContrast, RandomCrop, RandomGamma,\n",
    "                            RandomRotate90, RGBShift, ShiftScaleRotate,\n",
    "                            Transpose, VerticalFlip, ElasticTransform, GridDistortion, OpticalDistortion)\n",
    " \n",
    "import albumentations as albu\n",
    "from albumentations import Resize\n",
    "\n",
    "def aug():\n",
    "    return Compose([\n",
    "        HorizontalFlip(p=0.5),\n",
    "        VerticalFlip(p=0.5),\n",
    "        RandomRotate90(p=0.5),\n",
    "        Transpose(p=0.5),\n",
    "        ShiftScaleRotate(shift_limit=0.01, scale_limit=0.04, rotate_limit=0, p=0.25),\n",
    "        RandomBrightnessContrast(p=0.5),\n",
    "        RandomGamma(p=0.25),\n",
    "        IAAEmboss(p=0.25),\n",
    "        Blur(p=0.01, blur_limit = 3),\n",
    "        OneOf([\n",
    "            ElasticTransform(p=0.5, alpha=120, sigma=120 * 0.05, alpha_affine=120 * 0.03),\n",
    "            GridDistortion(p=0.5),\n",
    "            OpticalDistortion(p=1, distort_limit=2, shift_limit=0.5)                  \n",
    "        ], p=0.8)\n",
    "    ], p = 1)\n"
   ]
  },
  {
   "cell_type": "markdown",
   "metadata": {},
   "source": [
    "# Creating Augmented data--> (100X)"
   ]
  },
  {
   "cell_type": "code",
   "execution_count": 4,
   "metadata": {
    "colab": {},
    "colab_type": "code",
    "id": "4JO_RWteGzP3"
   },
   "outputs": [],
   "source": [
    "\n",
    "def read_image_mask(image_path, mask_path,image_size=256):\n",
    "    # read and resize the image and return as np.uint8\n",
    "    x=np.array((imgop.open(image_path)).resize((image_size,image_size))).astype(np.uint8)\n",
    "    # read ground truth\n",
    "    y=cv2.imread(mask_path,0)\n",
    "    y= cv2.resize(y,(image_size,image_size), interpolation = cv2.INTER_AREA)\n",
    "    # Otsu's thresholding after Gaussian filtering\n",
    "    y   = cv2.GaussianBlur(y,(5,5),0)\n",
    "    _,y = cv2.threshold(y,0,255,cv2.THRESH_BINARY+cv2.THRESH_OTSU)\n",
    "    y=np.array(y).astype(np.uint8)\n",
    "    return x,y\n",
    "\n",
    "# data creation function\n",
    "def create_data(srcp,imgp,maskp):\n",
    "    global DATA_IDEN\n",
    "    for _path in progressbar.progressbar(glob(os.path.join(srcp,'images','*.*'))):\n",
    "        _mpath=str(_path).replace('images','masks')\n",
    "        x_sample, y_sample=read_image_mask(_path,_mpath)\n",
    "        # augment for desired data number\n",
    "        for _ in range(batch_size):\n",
    "            augmented = aug()(image=x_sample, mask=y_sample)\n",
    "            img = augmented['image']\n",
    "            tgt = augmented['mask'].reshape(image_size,image_size)\n",
    "            img=img.astype(np.uint8)\n",
    "            tgt=tgt.astype(np.uint8)\n",
    "            imageio.imsave(os.path.join(imgp,'{}.png'.format(DATA_IDEN)),img)\n",
    "            imageio.imsave(os.path.join(maskp,'{}.png'.format(DATA_IDEN)),tgt)\n",
    "            DATA_IDEN+=1"
   ]
  },
  {
   "cell_type": "markdown",
   "metadata": {},
   "source": [
    "# Manual Augmentation Functions (100X)"
   ]
  },
  {
   "cell_type": "code",
   "execution_count": 5,
   "metadata": {},
   "outputs": [],
   "source": [
    "# flip function\n",
    "def FlipData(img,gt,fid):\n",
    "    '''\n",
    "    TAKES NUMPY ARRAY\n",
    "    '''\n",
    "    if fid==0:# ORIGINAL\n",
    "        x=np.array(img)\n",
    "        y=np.array(gt)\n",
    "    elif fid==1:# Left Right Flip\n",
    "        x=np.array(imgop.fromarray(img).transpose(imgop.FLIP_LEFT_RIGHT))\n",
    "        y=np.array(imgop.fromarray(gt).transpose(imgop.FLIP_LEFT_RIGHT))\n",
    "    elif fid==2:# Up Down Flip\n",
    "        x=np.array(imgop.fromarray(img).transpose(imgop.FLIP_TOP_BOTTOM))\n",
    "        y=np.array(imgop.fromarray(gt).transpose(imgop.FLIP_TOP_BOTTOM))\n",
    "    else: # Mirror Flip\n",
    "        x=imgop.fromarray(img).transpose(imgop.FLIP_TOP_BOTTOM)\n",
    "        x=np.array(x.transpose(imgop.FLIP_LEFT_RIGHT))\n",
    "        y=imgop.fromarray(gt).transpose(imgop.FLIP_TOP_BOTTOM)\n",
    "        y=np.array(y.transpose(imgop.FLIP_LEFT_RIGHT))\n",
    "    return x,y\n",
    "\n",
    "# save transposed data\n",
    "def saveTransposedData(img,gt,imgp,maskp,comb_flag=False):\n",
    "    '''\n",
    "    TAKES NUMPY ARRAY\n",
    "    '''\n",
    "    global DATA_IDEN\n",
    "    for fid in range(4):\n",
    "        x,y=FlipData(img,gt,fid)\n",
    "        if comb_flag:\n",
    "            rot_angle=random.randint(0,90)\n",
    "            x=np.array(imgop.fromarray(x).rotate(rot_angle))\n",
    "            y=np.array(imgop.fromarray(y).rotate(rot_angle))\n",
    "        fname='{}.png'.format(DATA_IDEN)\n",
    "        imageio.imsave(os.path.join(imgp,fname),x)\n",
    "        imageio.imsave(os.path.join(maskp,fname),y)\n",
    "        DATA_IDEN+=1\n",
    "        \n",
    "# create rotated and cropped images\n",
    "def createCropAug(srcp,imgp,maskp):\n",
    "    for img_path in progressbar.progressbar(glob(os.path.join(srcp,'images','*.*'))):\n",
    "        # gt paths\n",
    "        gt_path=str(img_path).replace(\"images\",\"masks\")\n",
    "        # read\n",
    "        x,y=read_image_mask(img_path,gt_path)\n",
    "        # make IMG,GT\n",
    "        IMG=imgop.fromarray(x)\n",
    "        GT=imgop.fromarray(y)\n",
    "        _height,_width = image_size,image_size\n",
    "        # cropped data\n",
    "        for pxv in [0,_width//2,'AC']:\n",
    "            for pxl in [0,_height//2,'AC']:\n",
    "                if (pxv!='AC' and pxl!='AC'):\n",
    "                    left    =   pxv\n",
    "                    right   =   pxv+_width//2\n",
    "                    top     =   pxl\n",
    "                    bottom  =   pxl+_height//2\n",
    "                    bbox    =   (left,top,right,bottom)\n",
    "                    _IMG    =   IMG.crop(bbox).resize((image_size,image_size))\n",
    "                    _GT     =   GT.crop(bbox).resize((image_size,image_size))\n",
    "                \n",
    "                elif (pxv=='AC' and pxl!='AC'): \n",
    "                    continue\n",
    "                elif (pxl=='AC' and pxv!='AC'):\n",
    "                    continue\n",
    "                elif (pxv=='AC' and pxl=='AC'):\n",
    "                    _GT=GT\n",
    "                    _IMG=IMG\n",
    "                else:\n",
    "                    continue\n",
    "                # Create Rotations\n",
    "                for rot_angle in range(0,30,5): #  selected completely at random\n",
    "                    rot_img =   _IMG.rotate(rot_angle)\n",
    "                    rot_gt  =   _GT.rotate(rot_angle)\n",
    "                    # save with flips\n",
    "                    saveTransposedData(np.array(rot_img),np.array(rot_gt),imgp,maskp)\n",
    "      "
   ]
  },
  {
   "cell_type": "markdown",
   "metadata": {},
   "source": [
    "# Create Combination of 4 images as new data"
   ]
  },
  {
   "cell_type": "code",
   "execution_count": 6,
   "metadata": {},
   "outputs": [],
   "source": [
    "# memory efficient random combination generator\n",
    "def random_combination(iterable, r):\n",
    "    \"Random selection from itertools.combinations(iterable, r)\"\n",
    "    pool = tuple(iterable)\n",
    "    n = len(pool)\n",
    "    indices = sorted(random.sample(range(n), r))\n",
    "    return tuple(pool[i] for i in indices)\n",
    "\n",
    "# combination data creator\n",
    "def createDatafromComb(comb,img_paths,_dpath):\n",
    "        '''\n",
    "            image collage from 4 unique images that works as a completely new image\n",
    "        '''\n",
    "        # crop boxes\n",
    "        _dim=image_size//2\n",
    "        bbox=[(0   ,   0,      _dim,_dim),\n",
    "              (0   ,_dim,      _dim,image_size),\n",
    "              (_dim,   0,image_size,_dim),\n",
    "              (_dim,_dim,image_size,image_size)]\n",
    "        # holders\n",
    "        X=np.zeros((image_size,image_size,3),dtype=np.uint8)\n",
    "        Y=np.zeros((image_size,image_size),dtype=np.uint8)\n",
    "        # read data\n",
    "        for i in range(4):\n",
    "            _ipath=img_paths[comb[i]]\n",
    "            _mpath=str(img_paths[comb[i]]).replace('images','masks')\n",
    "            x,y=read_image_mask(_ipath,_mpath)\n",
    "            x=np.array(imgop.fromarray(x).crop(bbox[i]))\n",
    "            y=np.array(imgop.fromarray(y).crop(bbox[i]))            \n",
    "            X[bbox[i][0]:bbox[i][2],bbox[i][1]:bbox[i][3]]=(x*255).astype(np.uint8)\n",
    "            Y[bbox[i][0]:bbox[i][2],bbox[i][1]:bbox[i][3]]=(y*255).astype(np.uint8)\n",
    "        \n",
    "        X=(X*255).astype(np.uint8)\n",
    "        Y=(Y*255).astype(np.uint8)\n",
    "        # saving\n",
    "        saveTransposedData(X,Y,os.path.join(_dpath,'images'),os.path.join(_dpath,'masks'),comb_flag=True)  \n",
    "\n",
    "# comb data function wrapper\n",
    "def createCombData(srcp,_dpath,mode):\n",
    "        # train=80*200=16000 ---> target =20480\n",
    "        # eval =10*200=2000  ---> target =2048\n",
    "        if mode=='train':\n",
    "            nb_comb=(20480- 80*200)//4\n",
    "        elif mode=='eval':\n",
    "            nb_comb=(2048- 10*200)//4\n",
    "        img_paths=[_path for _path in glob(os.path.join(srcp,'images','*.*'))]\n",
    "        random.shuffle(img_paths)\n",
    "        vals=[i for i in range(len(img_paths))]\n",
    "        for _ in progressbar.progressbar(range(nb_comb)):\n",
    "            comb=random_combination(vals,4) #--> nC4\n",
    "            createDatafromComb(comb,img_paths,_dpath)"
   ]
  },
  {
   "cell_type": "markdown",
   "metadata": {},
   "source": [
    "# TFRecords For GCS"
   ]
  },
  {
   "cell_type": "code",
   "execution_count": 7,
   "metadata": {},
   "outputs": [],
   "source": [
    "import tensorflow as tf \n",
    "tf.__version__\n",
    "def _bytes_feature(value):\n",
    "    return tf.train.Feature(bytes_list=tf.train.BytesList(value=[value]))\n",
    "def _int64_feature(value):\n",
    "      return tf.train.Feature(int64_list=tf.train.Int64List(value=[value]))\n",
    "def _float_feature(value):\n",
    "      return tf.train.Feature(float_list=tf.train.FloatList(value=[value]))\n",
    "\n",
    "\n",
    "def to_tfrecord(image_paths,save_dir,r_num):\n",
    "    tfrecord_name='{}.tfrecord'.format(r_num)\n",
    "    tfrecord_path=os.path.join(save_dir,tfrecord_name)\n",
    "    print(tfrecord_path) \n",
    "    with tf.io.TFRecordWriter(tfrecord_path) as writer:    \n",
    "        for image_path in progressbar.progressbar(image_paths):\n",
    "            target_path=str(image_path).replace('images','masks')\n",
    "            with(open(image_path,'rb')) as fid:\n",
    "                image_png_bytes=fid.read()\n",
    "            with(open(target_path,'rb')) as fid:\n",
    "                target_png_bytes=fid.read()\n",
    "            data ={ 'image':_bytes_feature(image_png_bytes),\n",
    "                    'target':_bytes_feature(target_png_bytes)\n",
    "            }\n",
    "            features=tf.train.Features(feature=data)\n",
    "            example= tf.train.Example(features=features)\n",
    "            serialized=example.SerializeToString()\n",
    "            writer.write(serialized)\n",
    "\n",
    "\n",
    "def genTFRecords(data_path,mode_dir):\n",
    "    data_dir=os.path.join(data_path,'images')\n",
    "    __paths=[os.path.join(data_dir,_file) \n",
    "             for _file in os.listdir(data_dir) \n",
    "             if os.path.isfile(os.path.join(data_dir,_file))]\n",
    "    \n",
    "    random.shuffle(__paths)\n",
    "    for i in range(0,len(__paths),data_num):\n",
    "        image_paths= __paths[i:i+data_num]\n",
    "        random.shuffle(image_paths)        \n",
    "        r_num=i // data_num\n",
    "        if len(image_paths)==data_num:\n",
    "            to_tfrecord(image_paths,mode_dir,r_num)\n",
    "\n",
    "\n"
   ]
  },
  {
   "cell_type": "markdown",
   "metadata": {},
   "source": [
    "# Create TFRecords to upload in GCS bucket --> COLAB TPU (SUPER FAST) \n",
    "# ALSO FOR GPU TRAINING (TIME CONSUMING)\n",
    "* BUCKET: **tfalldata**\n",
    "* Folder: **WireDTF**"
   ]
  },
  {
   "cell_type": "markdown",
   "metadata": {},
   "source": [
    "# Create  Data "
   ]
  },
  {
   "cell_type": "code",
   "execution_count": 8,
   "metadata": {},
   "outputs": [
    {
     "name": "stderr",
     "output_type": "stream",
     "text": [
      " 80% (64 of 80) |###################     | Elapsed Time: 0:10:04 ETA:   0:01:28/media/ansary/DriveData/UPWORK/WIRE/wire/lib/python3.6/site-packages/PIL/TiffImagePlugin.py:788: UserWarning: Corrupt EXIF data.  Expecting to read 2 bytes but only got 0. \n",
      "  warnings.warn(str(msg))\n",
      "100% (80 of 80) |########################| Elapsed Time: 0:12:11 Time:  0:12:11\n",
      "100% (80 of 80) |########################| Elapsed Time: 0:18:02 Time:  0:18:02\n",
      "100% (1120 of 1120) |####################| Elapsed Time: 0:11:59 Time:  0:11:59\n"
     ]
    },
    {
     "name": "stdout",
     "output_type": "stream",
     "text": [
      "/media/ansary/DriveData/UPWORK/WireDetection/pyWireDetect/DataSet/WireDTF/Train/0.tfrecord\n"
     ]
    },
    {
     "name": "stderr",
     "output_type": "stream",
     "text": [
      "100% (1024 of 1024) |####################| Elapsed Time: 0:00:54 Time:  0:00:54\n",
      "N/A% (0 of 1024) |                       | Elapsed Time: 0:00:00 ETA:  --:--:--"
     ]
    },
    {
     "name": "stdout",
     "output_type": "stream",
     "text": [
      "/media/ansary/DriveData/UPWORK/WireDetection/pyWireDetect/DataSet/WireDTF/Train/1.tfrecord\n"
     ]
    },
    {
     "name": "stderr",
     "output_type": "stream",
     "text": [
      "100% (1024 of 1024) |####################| Elapsed Time: 0:00:50 Time:  0:00:50\n",
      "N/A% (0 of 1024) |                       | Elapsed Time: 0:00:00 ETA:  --:--:--"
     ]
    },
    {
     "name": "stdout",
     "output_type": "stream",
     "text": [
      "/media/ansary/DriveData/UPWORK/WireDetection/pyWireDetect/DataSet/WireDTF/Train/2.tfrecord\n"
     ]
    },
    {
     "name": "stderr",
     "output_type": "stream",
     "text": [
      "100% (1024 of 1024) |####################| Elapsed Time: 0:00:38 Time:  0:00:38\n",
      "N/A% (0 of 1024) |                       | Elapsed Time: 0:00:00 ETA:  --:--:--"
     ]
    },
    {
     "name": "stdout",
     "output_type": "stream",
     "text": [
      "/media/ansary/DriveData/UPWORK/WireDetection/pyWireDetect/DataSet/WireDTF/Train/3.tfrecord\n"
     ]
    },
    {
     "name": "stderr",
     "output_type": "stream",
     "text": [
      "100% (1024 of 1024) |####################| Elapsed Time: 0:00:35 Time:  0:00:35\n",
      "  0% (1 of 1024) |                       | Elapsed Time: 0:00:00 ETA:   0:01:46"
     ]
    },
    {
     "name": "stdout",
     "output_type": "stream",
     "text": [
      "/media/ansary/DriveData/UPWORK/WireDetection/pyWireDetect/DataSet/WireDTF/Train/4.tfrecord\n"
     ]
    },
    {
     "name": "stderr",
     "output_type": "stream",
     "text": [
      "100% (1024 of 1024) |####################| Elapsed Time: 0:00:40 Time:  0:00:40\n",
      "  0% (3 of 1024) |                       | Elapsed Time: 0:00:00 ETA:   0:00:37"
     ]
    },
    {
     "name": "stdout",
     "output_type": "stream",
     "text": [
      "/media/ansary/DriveData/UPWORK/WireDetection/pyWireDetect/DataSet/WireDTF/Train/5.tfrecord\n"
     ]
    },
    {
     "name": "stderr",
     "output_type": "stream",
     "text": [
      "100% (1024 of 1024) |####################| Elapsed Time: 0:00:34 Time:  0:00:34\n",
      "N/A% (0 of 1024) |                       | Elapsed Time: 0:00:00 ETA:  --:--:--"
     ]
    },
    {
     "name": "stdout",
     "output_type": "stream",
     "text": [
      "/media/ansary/DriveData/UPWORK/WireDetection/pyWireDetect/DataSet/WireDTF/Train/6.tfrecord\n"
     ]
    },
    {
     "name": "stderr",
     "output_type": "stream",
     "text": [
      "100% (1024 of 1024) |####################| Elapsed Time: 0:00:34 Time:  0:00:34\n",
      "N/A% (0 of 1024) |                       | Elapsed Time: 0:00:00 ETA:  --:--:--"
     ]
    },
    {
     "name": "stdout",
     "output_type": "stream",
     "text": [
      "/media/ansary/DriveData/UPWORK/WireDetection/pyWireDetect/DataSet/WireDTF/Train/7.tfrecord\n"
     ]
    },
    {
     "name": "stderr",
     "output_type": "stream",
     "text": [
      "100% (1024 of 1024) |####################| Elapsed Time: 0:01:12 Time:  0:01:12\n",
      "  0% (7 of 1024) |                       | Elapsed Time: 0:00:00 ETA:   0:00:14"
     ]
    },
    {
     "name": "stdout",
     "output_type": "stream",
     "text": [
      "/media/ansary/DriveData/UPWORK/WireDetection/pyWireDetect/DataSet/WireDTF/Train/8.tfrecord\n"
     ]
    },
    {
     "name": "stderr",
     "output_type": "stream",
     "text": [
      "100% (1024 of 1024) |####################| Elapsed Time: 0:00:38 Time:  0:00:38\n",
      "  0% (6 of 1024) |                       | Elapsed Time: 0:00:00 ETA:   0:00:17"
     ]
    },
    {
     "name": "stdout",
     "output_type": "stream",
     "text": [
      "/media/ansary/DriveData/UPWORK/WireDetection/pyWireDetect/DataSet/WireDTF/Train/9.tfrecord\n"
     ]
    },
    {
     "name": "stderr",
     "output_type": "stream",
     "text": [
      "100% (1024 of 1024) |####################| Elapsed Time: 0:00:31 Time:  0:00:31\n",
      "  0% (6 of 1024) |                       | Elapsed Time: 0:00:00 ETA:   0:00:17"
     ]
    },
    {
     "name": "stdout",
     "output_type": "stream",
     "text": [
      "/media/ansary/DriveData/UPWORK/WireDetection/pyWireDetect/DataSet/WireDTF/Train/10.tfrecord\n"
     ]
    },
    {
     "name": "stderr",
     "output_type": "stream",
     "text": [
      "100% (1024 of 1024) |####################| Elapsed Time: 0:00:36 Time:  0:00:36\n",
      "  0% (6 of 1024) |                       | Elapsed Time: 0:00:00 ETA:   0:00:17"
     ]
    },
    {
     "name": "stdout",
     "output_type": "stream",
     "text": [
      "/media/ansary/DriveData/UPWORK/WireDetection/pyWireDetect/DataSet/WireDTF/Train/11.tfrecord\n"
     ]
    },
    {
     "name": "stderr",
     "output_type": "stream",
     "text": [
      "100% (1024 of 1024) |####################| Elapsed Time: 0:00:49 Time:  0:00:49\n",
      "  1% (13 of 1024) |                      | Elapsed Time: 0:00:00 ETA:   0:00:12"
     ]
    },
    {
     "name": "stdout",
     "output_type": "stream",
     "text": [
      "/media/ansary/DriveData/UPWORK/WireDetection/pyWireDetect/DataSet/WireDTF/Train/12.tfrecord\n"
     ]
    },
    {
     "name": "stderr",
     "output_type": "stream",
     "text": [
      "100% (1024 of 1024) |####################| Elapsed Time: 0:00:36 Time:  0:00:36\n",
      "  0% (1 of 1024) |                       | Elapsed Time: 0:00:00 ETA:   0:01:51"
     ]
    },
    {
     "name": "stdout",
     "output_type": "stream",
     "text": [
      "/media/ansary/DriveData/UPWORK/WireDetection/pyWireDetect/DataSet/WireDTF/Train/13.tfrecord\n"
     ]
    },
    {
     "name": "stderr",
     "output_type": "stream",
     "text": [
      "100% (1024 of 1024) |####################| Elapsed Time: 0:00:34 Time:  0:00:34\n",
      "N/A% (0 of 1024) |                       | Elapsed Time: 0:00:00 ETA:  --:--:--"
     ]
    },
    {
     "name": "stdout",
     "output_type": "stream",
     "text": [
      "/media/ansary/DriveData/UPWORK/WireDetection/pyWireDetect/DataSet/WireDTF/Train/14.tfrecord\n"
     ]
    },
    {
     "name": "stderr",
     "output_type": "stream",
     "text": [
      "100% (1024 of 1024) |####################| Elapsed Time: 0:00:37 Time:  0:00:37\n",
      "N/A% (0 of 1024) |                       | Elapsed Time: 0:00:00 ETA:  --:--:--"
     ]
    },
    {
     "name": "stdout",
     "output_type": "stream",
     "text": [
      "/media/ansary/DriveData/UPWORK/WireDetection/pyWireDetect/DataSet/WireDTF/Train/15.tfrecord\n"
     ]
    },
    {
     "name": "stderr",
     "output_type": "stream",
     "text": [
      "100% (1024 of 1024) |####################| Elapsed Time: 0:00:35 Time:  0:00:35\n",
      "N/A% (0 of 1024) |                       | Elapsed Time: 0:00:00 ETA:  --:--:--"
     ]
    },
    {
     "name": "stdout",
     "output_type": "stream",
     "text": [
      "/media/ansary/DriveData/UPWORK/WireDetection/pyWireDetect/DataSet/WireDTF/Train/16.tfrecord\n"
     ]
    },
    {
     "name": "stderr",
     "output_type": "stream",
     "text": [
      "100% (1024 of 1024) |####################| Elapsed Time: 0:00:45 Time:  0:00:45\n",
      "  0% (7 of 1024) |                       | Elapsed Time: 0:00:00 ETA:   0:00:16"
     ]
    },
    {
     "name": "stdout",
     "output_type": "stream",
     "text": [
      "/media/ansary/DriveData/UPWORK/WireDetection/pyWireDetect/DataSet/WireDTF/Train/17.tfrecord\n"
     ]
    },
    {
     "name": "stderr",
     "output_type": "stream",
     "text": [
      "100% (1024 of 1024) |####################| Elapsed Time: 0:01:05 Time:  0:01:05\n",
      "  0% (4 of 1024) |                       | Elapsed Time: 0:00:00 ETA:   0:00:26"
     ]
    },
    {
     "name": "stdout",
     "output_type": "stream",
     "text": [
      "/media/ansary/DriveData/UPWORK/WireDetection/pyWireDetect/DataSet/WireDTF/Train/18.tfrecord\n"
     ]
    },
    {
     "name": "stderr",
     "output_type": "stream",
     "text": [
      "100% (1024 of 1024) |####################| Elapsed Time: 0:00:52 Time:  0:00:52\n",
      "N/A% (0 of 1024) |                       | Elapsed Time: 0:00:00 ETA:  --:--:--"
     ]
    },
    {
     "name": "stdout",
     "output_type": "stream",
     "text": [
      "/media/ansary/DriveData/UPWORK/WireDetection/pyWireDetect/DataSet/WireDTF/Train/19.tfrecord\n"
     ]
    },
    {
     "name": "stderr",
     "output_type": "stream",
     "text": [
      "100% (1024 of 1024) |####################| Elapsed Time: 0:00:32 Time:  0:00:32\n",
      "  1% (13 of 1024) |                      | Elapsed Time: 0:00:00 ETA:   0:00:14"
     ]
    },
    {
     "name": "stdout",
     "output_type": "stream",
     "text": [
      "/media/ansary/DriveData/UPWORK/WireDetection/pyWireDetect/DataSet/WireDTF/Train/20.tfrecord\n"
     ]
    },
    {
     "name": "stderr",
     "output_type": "stream",
     "text": [
      "100% (1024 of 1024) |####################| Elapsed Time: 0:00:37 Time:  0:00:37\n",
      "100% (10 of 10) |########################| Elapsed Time: 0:01:52 Time:  0:01:52\n",
      "100% (10 of 10) |########################| Elapsed Time: 0:03:00 Time:  0:03:00\n",
      "100% (12 of 12) |########################| Elapsed Time: 0:00:06 Time:  0:00:06\n"
     ]
    },
    {
     "name": "stdout",
     "output_type": "stream",
     "text": [
      "/media/ansary/DriveData/UPWORK/WireDetection/pyWireDetect/DataSet/WireDTF/Eval/0.tfrecord\n"
     ]
    },
    {
     "name": "stderr",
     "output_type": "stream",
     "text": [
      "100% (1024 of 1024) |####################| Elapsed Time: 0:00:00 Time:  0:00:00\n",
      " 30% (312 of 1024) |######               | Elapsed Time: 0:00:00 ETA:   0:00:00"
     ]
    },
    {
     "name": "stdout",
     "output_type": "stream",
     "text": [
      "/media/ansary/DriveData/UPWORK/WireDetection/pyWireDetect/DataSet/WireDTF/Eval/1.tfrecord\n"
     ]
    },
    {
     "name": "stderr",
     "output_type": "stream",
     "text": [
      "100% (1024 of 1024) |####################| Elapsed Time: 0:00:02 Time:  0:00:02\n"
     ]
    }
   ],
   "source": [
    "# train Data\n",
    "create_data(train_src,train_img,train_mask)\n",
    "createCropAug(train_src,train_img,train_mask)\n",
    "createCombData(train_src,train_dir,'train')\n",
    "genTFRecords(train_dir,tf_train)\n",
    "\n",
    "# eval\n",
    "create_data(eval_src,eval_img,eval_mask)\n",
    "createCropAug(eval_src,eval_img,eval_mask)\n",
    "createCombData(eval_src,eval_dir,'eval')\n",
    "genTFRecords(eval_dir,tf_eval)"
   ]
  }
 ],
 "metadata": {
  "accelerator": "TPU",
  "colab": {
   "collapsed_sections": [],
   "name": "efficientnet.ipynb",
   "provenance": []
  },
  "kernelspec": {
   "display_name": "wire",
   "language": "python",
   "name": "wire"
  },
  "language_info": {
   "codemirror_mode": {
    "name": "ipython",
    "version": 3
   },
   "file_extension": ".py",
   "mimetype": "text/x-python",
   "name": "python",
   "nbconvert_exporter": "python",
   "pygments_lexer": "ipython3",
   "version": "3.6.9"
  }
 },
 "nbformat": 4,
 "nbformat_minor": 1
}
